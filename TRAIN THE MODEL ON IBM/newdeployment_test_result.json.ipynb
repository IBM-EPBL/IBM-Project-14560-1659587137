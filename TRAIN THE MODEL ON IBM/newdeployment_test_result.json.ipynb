{
  "nbformat": 4,
  "nbformat_minor": 0,
  "metadata": {
    "colab": {
      "provenance": []
    },
    "kernelspec": {
      "name": "python3",
      "display_name": "Python 3"
    },
    "language_info": {
      "name": "python"
    }
  },
  "cells": [
    {
      "cell_type": "code",
      "execution_count": null,
      "metadata": {
        "id": "4FpV2pWDnJCP"
      },
      "outputs": [],
      "source": [
        "{\n",
        "\t\"fields\": [\n",
        "\t\t\"prediction\",\n",
        "\t\t\"probability\"\n",
        "\t],\n",
        "\t\"values\": [\n",
        "\t\t[\n",
        "\t\t\t1,\n",
        "\t\t\t[\n",
        "\t\t\t\t0.0007820685245349956,\n",
        "\t\t\t\t0.999217931475465\n",
        "\t\t\t]\n",
        "\t\t]\n",
        "\t]\n",
        "}"
      ]
    }
  ]
}